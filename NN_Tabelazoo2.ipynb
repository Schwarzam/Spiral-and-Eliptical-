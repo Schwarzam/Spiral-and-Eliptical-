{
  "nbformat": 4,
  "nbformat_minor": 0,
  "metadata": {
    "colab": {
      "name": "Untitled11.ipynb",
      "provenance": [],
      "authorship_tag": "ABX9TyPaSPei48TqlX0QARfxdhVH",
      "include_colab_link": true
    },
    "kernelspec": {
      "name": "python3",
      "display_name": "Python 3"
    }
  },
  "cells": [
    {
      "cell_type": "markdown",
      "metadata": {
        "id": "view-in-github",
        "colab_type": "text"
      },
      "source": [
        "<a href=\"https://colab.research.google.com/github/Schwarzam/Spiral-and-Eliptical-/blob/master/NN_Tabelazoo2.ipynb\" target=\"_parent\"><img src=\"https://colab.research.google.com/assets/colab-badge.svg\" alt=\"Open In Colab\"/></a>"
      ]
    },
    {
      "cell_type": "code",
      "metadata": {
        "id": "n9wnefPjvIUE",
        "colab_type": "code",
        "colab": {
          "base_uri": "https://localhost:8080/",
          "height": 71
        },
        "outputId": "7368549c-a816-4de9-8684-d0550cda050d"
      },
      "source": [
        "import pandas as pd \n",
        "import numpy as np \n",
        "import matplotlib.pyplot as plt\n",
        "import seaborn as sns"
      ],
      "execution_count": 2,
      "outputs": [
        {
          "output_type": "stream",
          "text": [
            "/usr/local/lib/python3.6/dist-packages/statsmodels/tools/_testing.py:19: FutureWarning: pandas.util.testing is deprecated. Use the functions in the public API at pandas.testing instead.\n",
            "  import pandas.util.testing as tm\n"
          ],
          "name": "stderr"
        }
      ]
    },
    {
      "cell_type": "code",
      "metadata": {
        "id": "ISDeYlQSvOLZ",
        "colab_type": "code",
        "colab": {}
      },
      "source": [
        "url = 'https://raw.githubusercontent.com/Schwarzam/Spiral-and-Eliptical-/master/group_2_zoo2.csv?token=APDNULOWV2BV2IVN2V464OC6WVPAU'\n",
        "df = pd.read_csv(url)"
      ],
      "execution_count": 0,
      "outputs": []
    },
    {
      "cell_type": "code",
      "metadata": {
        "id": "j5iMv8BvDSov",
        "colab_type": "code",
        "colab": {}
      },
      "source": [
        ""
      ],
      "execution_count": 0,
      "outputs": []
    },
    {
      "cell_type": "code",
      "metadata": {
        "id": "-q92aeyKva1o",
        "colab_type": "code",
        "colab": {}
      },
      "source": [
        "SC = df['simple_class']"
      ],
      "execution_count": 0,
      "outputs": []
    },
    {
      "cell_type": "code",
      "metadata": {
        "id": "njqBEdiQwbcJ",
        "colab_type": "code",
        "colab": {}
      },
      "source": [
        "def regular (cols):\n",
        "  SC = cols[0]\n",
        "\n",
        "  if SC == 'S':\n",
        "    return 'S'\n",
        "  elif SC == 'SB':\n",
        "    return 'S'\n",
        "  elif SC == 'Se':\n",
        "    return 'S'\n",
        "  else: \n",
        "    return 'E'\n",
        "\n"
      ],
      "execution_count": 0,
      "outputs": []
    },
    {
      "cell_type": "code",
      "metadata": {
        "id": "cFHIV3ugxMWv",
        "colab_type": "code",
        "colab": {}
      },
      "source": [
        "Nov = df[['simple_class']].apply(regular, axis=1)"
      ],
      "execution_count": 0,
      "outputs": []
    },
    {
      "cell_type": "code",
      "metadata": {
        "id": "7F7EJFZavey8",
        "colab_type": "code",
        "colab": {}
      },
      "source": [
        "Class = pd.get_dummies(Nov, drop_first=True)"
      ],
      "execution_count": 0,
      "outputs": []
    },
    {
      "cell_type": "code",
      "metadata": {
        "id": "zmBRnyGZ3U10",
        "colab_type": "code",
        "colab": {}
      },
      "source": [
        "df['Class'] = Class\n",
        "df.drop(['simple_class'], axis=1, inplace=True)"
      ],
      "execution_count": 0,
      "outputs": []
    },
    {
      "cell_type": "code",
      "metadata": {
        "id": "s-9VktRj5H3k",
        "colab_type": "code",
        "outputId": "06cacf8d-aa11-4ec7-ec10-3baf7af4bb60",
        "colab": {
          "base_uri": "https://localhost:8080/",
          "height": 34
        }
      },
      "source": [
        "# To look which columns has nulls\n",
        "print(df.loc[:, df.isnull().any()].columns)"
      ],
      "execution_count": 10,
      "outputs": [
        {
          "output_type": "stream",
          "text": [
            "Index(['dr8objid'], dtype='object')\n"
          ],
          "name": "stdout"
        }
      ]
    },
    {
      "cell_type": "code",
      "metadata": {
        "id": "0cXWEBky75qS",
        "colab_type": "code",
        "colab": {}
      },
      "source": [
        "df.drop(['dr8objid'], axis=1, inplace=True)"
      ],
      "execution_count": 0,
      "outputs": []
    },
    {
      "cell_type": "code",
      "metadata": {
        "id": "XYPFrB5V6h9g",
        "colab_type": "code",
        "colab": {}
      },
      "source": [
        "ret = list (df)[0:24]\n",
        "dem = list (df)[24:-1]\n",
        "dem2 = ['FWHM_n','MUMAX','A','B','THETA','FlRadDet','KrRadDet','nDet_auto','nDet_petro','nDet_aper','uJAVA_auto','euJAVA_auto','s2n_uJAVA_auto','uJAVA_petro',\n",
        " 'euJAVA_petro','s2n_uJAVA_petro','uJAVA_aper','euJAVA_aper','s2n_uJAVA_aper','F378_auto','eF378_auto','s2n_F378_auto','F378_petro','eF378_petro','s2n_F378_petro','F378_aper',\n",
        " 'eF378_aper','s2n_F378_aper','F395_auto','eF395_auto','s2n_F395_auto','F395_petro','eF395_petro','s2n_F395_petro','F395_aper','eF395_aper','s2n_F395_aper',\n",
        " 'F410_auto','eF410_auto','s2n_F410_auto','F410_petro','eF410_petro','s2n_F410_petro','F410_aper','eF410_aper','s2n_F410_aper','F430_auto','eF430_auto',\n",
        " 's2n_F430_auto','F430_petro','eF430_petro','s2n_F430_petro','F430_aper','eF430_aper','s2n_F430_aper','g_auto','eg_auto','s2n_g_auto','g_petro',\n",
        " 'eg_petro','s2n_g_petro','g_aper','eg_aper','s2n_g_aper','F515_auto','eF515_auto','s2n_F515_auto','F515_petro','eF515_petro','s2n_F515_petro','F515_aper',\n",
        " 'eF515_aper','s2n_F515_aper','r_auto','er_auto','s2n_r_auto','r_petro','er_petro','s2n_r_petro','r_aper','er_aper','s2n_r_aper','F660_auto',\n",
        " 'eF660_auto','s2n_F660_auto','F660_petro','eF660_petro','s2n_F660_petro','F660_aper','eF660_aper','s2n_F660_aper','i_auto','ei_auto','s2n_i_auto',\n",
        " 'i_petro','ei_petro', 's2n_i_petro', 'i_aper', 'ei_aper', 's2n_i_aper', 'F861_auto', 'eF861_auto', 's2n_F861_auto', 'F861_petro', 'eF861_petro',\n",
        " 's2n_F861_petro', 'F861_aper', 'eF861_aper', 's2n_F861_aper','z_auto', 'ez_auto', 's2n_z_auto', 'z_petro', 'ez_petro', 's2n_z_petro', 'z_aper',\n",
        " 'ez_aper','s2n_z_aper', 'zb', 'zb_Min', 'zb_Max', 'Tb', 'Odds', 'Chi2', 'M_B', 'Stell_Mass']"
      ],
      "execution_count": 0,
      "outputs": []
    },
    {
      "cell_type": "code",
      "metadata": {
        "id": "YSrXLRGw3tGl",
        "colab_type": "code",
        "colab": {}
      },
      "source": [
        ""
      ],
      "execution_count": 0,
      "outputs": []
    },
    {
      "cell_type": "code",
      "metadata": {
        "id": "qSYBmyS8xVQ7",
        "colab_type": "code",
        "colab": {}
      },
      "source": [
        "data_train = df[dem2]"
      ],
      "execution_count": 0,
      "outputs": []
    },
    {
      "cell_type": "code",
      "metadata": {
        "id": "UZ1xQg6-xvtb",
        "colab_type": "code",
        "colab": {}
      },
      "source": [
        "X_train = data_train.rename_axis('ID').values[0:6500]\n",
        "X_test = data_train.rename_axis('ID').values[5001:6500]\n",
        "y_train = df['Class'].rename_axis('ID').values[0:6500]\n",
        "y_test = df['Class'].rename_axis('ID').values[5001:6500]\n",
        "x_val = data_train.rename_axis('ID').values[6501:8161]\n",
        "y_val = df['Class'].rename_axis('ID').values[6501:8161]"
      ],
      "execution_count": 0,
      "outputs": []
    },
    {
      "cell_type": "code",
      "metadata": {
        "id": "NgvOKNGBzk9z",
        "colab_type": "code",
        "colab": {}
      },
      "source": [
        "from keras import models\n",
        "from keras import layers\n",
        "\n",
        "model = models.Sequential()\n",
        "model.add(layers.Dense(64, activation='relu'))\n",
        "model.add(layers.Dense(64, activation='relu'))\n",
        "#model.add(layers.Dense(64, activation='relu'))\n",
        "#model.add(layers.Dense(64, activation='relu'))\n",
        "model.add(layers.Dense(1, activation='sigmoid'))"
      ],
      "execution_count": 0,
      "outputs": []
    },
    {
      "cell_type": "code",
      "metadata": {
        "id": "rPONtz5Q0KwN",
        "colab_type": "code",
        "colab": {
          "base_uri": "https://localhost:8080/",
          "height": 1000
        },
        "outputId": "1db83996-f8a3-4292-d9a9-4163d8e1757e"
      },
      "source": [
        "from keras import optimizers\n",
        "model.compile(optimizer=optimizers.RMSprop(lr=0.001),\n",
        "              loss='binary_crossentropy',\n",
        "              metrics=['acc'])\n",
        "history = model.fit(X_train,\n",
        "                    y_train,\n",
        "                    epochs=120,\n",
        "                    batch_size=32,\n",
        "                    validation_data=(x_val, y_val))"
      ],
      "execution_count": 88,
      "outputs": [
        {
          "output_type": "stream",
          "text": [
            "Train on 6500 samples, validate on 1660 samples\n",
            "Epoch 1/120\n",
            "6500/6500 [==============================] - 0s 62us/step - loss: 0.3841 - acc: 0.8369 - val_loss: 0.5200 - val_acc: 0.8223\n",
            "Epoch 2/120\n",
            "6500/6500 [==============================] - 0s 45us/step - loss: 0.3720 - acc: 0.8426 - val_loss: 0.4208 - val_acc: 0.8217\n",
            "Epoch 3/120\n",
            "6500/6500 [==============================] - 0s 54us/step - loss: 0.3678 - acc: 0.8398 - val_loss: 0.5974 - val_acc: 0.7934\n",
            "Epoch 4/120\n",
            "6500/6500 [==============================] - 0s 45us/step - loss: 0.3740 - acc: 0.8354 - val_loss: 0.5077 - val_acc: 0.7928\n",
            "Epoch 5/120\n",
            "6500/6500 [==============================] - 0s 45us/step - loss: 0.3686 - acc: 0.8398 - val_loss: 0.5953 - val_acc: 0.8090\n",
            "Epoch 6/120\n",
            "6500/6500 [==============================] - 0s 45us/step - loss: 0.3635 - acc: 0.8366 - val_loss: 0.5122 - val_acc: 0.8060\n",
            "Epoch 7/120\n",
            "6500/6500 [==============================] - 0s 48us/step - loss: 0.3676 - acc: 0.8409 - val_loss: 0.4555 - val_acc: 0.8211\n",
            "Epoch 8/120\n",
            "6500/6500 [==============================] - 0s 45us/step - loss: 0.3688 - acc: 0.8386 - val_loss: 0.3960 - val_acc: 0.8337\n",
            "Epoch 9/120\n",
            "6500/6500 [==============================] - 0s 46us/step - loss: 0.3678 - acc: 0.8375 - val_loss: 0.4207 - val_acc: 0.8301\n",
            "Epoch 10/120\n",
            "6500/6500 [==============================] - 0s 48us/step - loss: 0.3619 - acc: 0.8409 - val_loss: 0.5121 - val_acc: 0.7982\n",
            "Epoch 11/120\n",
            "6500/6500 [==============================] - 0s 48us/step - loss: 0.3821 - acc: 0.8409 - val_loss: 0.5238 - val_acc: 0.8139\n",
            "Epoch 12/120\n",
            "6500/6500 [==============================] - 0s 48us/step - loss: 0.3639 - acc: 0.8411 - val_loss: 0.5107 - val_acc: 0.7825\n",
            "Epoch 13/120\n",
            "6500/6500 [==============================] - 0s 51us/step - loss: 0.3661 - acc: 0.8412 - val_loss: 0.4358 - val_acc: 0.8133\n",
            "Epoch 14/120\n",
            "6500/6500 [==============================] - 0s 47us/step - loss: 0.3638 - acc: 0.8366 - val_loss: 0.4638 - val_acc: 0.8157\n",
            "Epoch 15/120\n",
            "6500/6500 [==============================] - 0s 47us/step - loss: 0.3614 - acc: 0.8388 - val_loss: 0.4803 - val_acc: 0.8108\n",
            "Epoch 16/120\n",
            "6500/6500 [==============================] - 0s 45us/step - loss: 0.3612 - acc: 0.8397 - val_loss: 0.4284 - val_acc: 0.8139\n",
            "Epoch 17/120\n",
            "6500/6500 [==============================] - 0s 48us/step - loss: 0.3662 - acc: 0.8429 - val_loss: 0.4136 - val_acc: 0.8289\n",
            "Epoch 18/120\n",
            "6500/6500 [==============================] - 0s 49us/step - loss: 0.3680 - acc: 0.8363 - val_loss: 0.4949 - val_acc: 0.8114\n",
            "Epoch 19/120\n",
            "6500/6500 [==============================] - 0s 46us/step - loss: 0.3604 - acc: 0.8446 - val_loss: 0.4765 - val_acc: 0.8169\n",
            "Epoch 20/120\n",
            "6500/6500 [==============================] - 0s 48us/step - loss: 0.3654 - acc: 0.8451 - val_loss: 0.4745 - val_acc: 0.8193\n",
            "Epoch 21/120\n",
            "6500/6500 [==============================] - 0s 46us/step - loss: 0.3690 - acc: 0.8460 - val_loss: 0.4368 - val_acc: 0.8175\n",
            "Epoch 22/120\n",
            "6500/6500 [==============================] - 0s 48us/step - loss: 0.3628 - acc: 0.8420 - val_loss: 0.4463 - val_acc: 0.8247\n",
            "Epoch 23/120\n",
            "6500/6500 [==============================] - 0s 49us/step - loss: 0.3724 - acc: 0.8411 - val_loss: 0.4424 - val_acc: 0.8187\n",
            "Epoch 24/120\n",
            "6500/6500 [==============================] - 0s 46us/step - loss: 0.3632 - acc: 0.8428 - val_loss: 0.4893 - val_acc: 0.8036\n",
            "Epoch 25/120\n",
            "6500/6500 [==============================] - 0s 46us/step - loss: 0.3643 - acc: 0.8478 - val_loss: 0.4295 - val_acc: 0.8355\n",
            "Epoch 26/120\n",
            "6500/6500 [==============================] - 0s 50us/step - loss: 0.3509 - acc: 0.8417 - val_loss: 0.5152 - val_acc: 0.8060\n",
            "Epoch 27/120\n",
            "6500/6500 [==============================] - 0s 47us/step - loss: 0.3687 - acc: 0.8482 - val_loss: 0.5236 - val_acc: 0.7994\n",
            "Epoch 28/120\n",
            "6500/6500 [==============================] - 0s 47us/step - loss: 0.3675 - acc: 0.8465 - val_loss: 0.4554 - val_acc: 0.8139\n",
            "Epoch 29/120\n",
            "6500/6500 [==============================] - 0s 47us/step - loss: 0.3649 - acc: 0.8412 - val_loss: 0.4837 - val_acc: 0.8295\n",
            "Epoch 30/120\n",
            "6500/6500 [==============================] - 0s 47us/step - loss: 0.3585 - acc: 0.8462 - val_loss: 0.4709 - val_acc: 0.8175\n",
            "Epoch 31/120\n",
            "6500/6500 [==============================] - 0s 48us/step - loss: 0.3641 - acc: 0.8497 - val_loss: 0.5969 - val_acc: 0.7675\n",
            "Epoch 32/120\n",
            "6500/6500 [==============================] - 0s 47us/step - loss: 0.3597 - acc: 0.8442 - val_loss: 0.4861 - val_acc: 0.8289\n",
            "Epoch 33/120\n",
            "6500/6500 [==============================] - 0s 50us/step - loss: 0.3589 - acc: 0.8472 - val_loss: 0.4935 - val_acc: 0.8072\n",
            "Epoch 34/120\n",
            "6500/6500 [==============================] - 0s 46us/step - loss: 0.3552 - acc: 0.8469 - val_loss: 0.5840 - val_acc: 0.7904\n",
            "Epoch 35/120\n",
            "6500/6500 [==============================] - 0s 48us/step - loss: 0.3580 - acc: 0.8478 - val_loss: 0.4532 - val_acc: 0.8325\n",
            "Epoch 36/120\n",
            "6500/6500 [==============================] - 0s 50us/step - loss: 0.3531 - acc: 0.8465 - val_loss: 0.4755 - val_acc: 0.8289\n",
            "Epoch 37/120\n",
            "6500/6500 [==============================] - 0s 48us/step - loss: 0.3672 - acc: 0.8452 - val_loss: 0.5619 - val_acc: 0.8139\n",
            "Epoch 38/120\n",
            "6500/6500 [==============================] - 0s 49us/step - loss: 0.3560 - acc: 0.8449 - val_loss: 0.5850 - val_acc: 0.7873\n",
            "Epoch 39/120\n",
            "6500/6500 [==============================] - 0s 47us/step - loss: 0.3581 - acc: 0.8465 - val_loss: 0.4642 - val_acc: 0.8229\n",
            "Epoch 40/120\n",
            "6500/6500 [==============================] - 0s 49us/step - loss: 0.3555 - acc: 0.8515 - val_loss: 0.5908 - val_acc: 0.8151\n",
            "Epoch 41/120\n",
            "6500/6500 [==============================] - 0s 50us/step - loss: 0.3569 - acc: 0.8466 - val_loss: 0.5240 - val_acc: 0.8235\n",
            "Epoch 42/120\n",
            "6500/6500 [==============================] - 0s 50us/step - loss: 0.3645 - acc: 0.8477 - val_loss: 0.5312 - val_acc: 0.8229\n",
            "Epoch 43/120\n",
            "6500/6500 [==============================] - 0s 48us/step - loss: 0.3653 - acc: 0.8457 - val_loss: 0.5410 - val_acc: 0.8193\n",
            "Epoch 44/120\n",
            "6500/6500 [==============================] - 0s 48us/step - loss: 0.3553 - acc: 0.8463 - val_loss: 0.4766 - val_acc: 0.8265\n",
            "Epoch 45/120\n",
            "6500/6500 [==============================] - 0s 50us/step - loss: 0.3504 - acc: 0.8492 - val_loss: 0.4581 - val_acc: 0.8373\n",
            "Epoch 46/120\n",
            "6500/6500 [==============================] - 0s 51us/step - loss: 0.3532 - acc: 0.8508 - val_loss: 0.5701 - val_acc: 0.7759\n",
            "Epoch 47/120\n",
            "6500/6500 [==============================] - 0s 53us/step - loss: 0.3628 - acc: 0.8434 - val_loss: 0.4914 - val_acc: 0.8241\n",
            "Epoch 48/120\n",
            "6500/6500 [==============================] - 0s 52us/step - loss: 0.3603 - acc: 0.8440 - val_loss: 0.4771 - val_acc: 0.8193\n",
            "Epoch 49/120\n",
            "6500/6500 [==============================] - 0s 54us/step - loss: 0.3578 - acc: 0.8449 - val_loss: 0.5144 - val_acc: 0.8193\n",
            "Epoch 50/120\n",
            "6500/6500 [==============================] - 0s 56us/step - loss: 0.3630 - acc: 0.8482 - val_loss: 0.8978 - val_acc: 0.6825\n",
            "Epoch 51/120\n",
            "6500/6500 [==============================] - 0s 50us/step - loss: 0.3540 - acc: 0.8475 - val_loss: 0.4701 - val_acc: 0.8380\n",
            "Epoch 52/120\n",
            "6500/6500 [==============================] - 0s 52us/step - loss: 0.3627 - acc: 0.8495 - val_loss: 0.5079 - val_acc: 0.8151\n",
            "Epoch 53/120\n",
            "6500/6500 [==============================] - 0s 47us/step - loss: 0.3568 - acc: 0.8500 - val_loss: 0.4990 - val_acc: 0.8205\n",
            "Epoch 54/120\n",
            "6500/6500 [==============================] - 0s 48us/step - loss: 0.3511 - acc: 0.8471 - val_loss: 0.5337 - val_acc: 0.8169\n",
            "Epoch 55/120\n",
            "6500/6500 [==============================] - 0s 47us/step - loss: 0.3511 - acc: 0.8495 - val_loss: 0.4793 - val_acc: 0.8343\n",
            "Epoch 56/120\n",
            "6500/6500 [==============================] - 0s 48us/step - loss: 0.3487 - acc: 0.8486 - val_loss: 0.5846 - val_acc: 0.7777\n",
            "Epoch 57/120\n",
            "6500/6500 [==============================] - 0s 47us/step - loss: 0.3500 - acc: 0.8478 - val_loss: 0.5484 - val_acc: 0.8108\n",
            "Epoch 58/120\n",
            "6500/6500 [==============================] - 0s 51us/step - loss: 0.3477 - acc: 0.8455 - val_loss: 0.5217 - val_acc: 0.8145\n",
            "Epoch 59/120\n",
            "6500/6500 [==============================] - 0s 46us/step - loss: 0.3627 - acc: 0.8506 - val_loss: 0.4670 - val_acc: 0.8337\n",
            "Epoch 60/120\n",
            "6500/6500 [==============================] - 0s 47us/step - loss: 0.3495 - acc: 0.8508 - val_loss: 0.5420 - val_acc: 0.8199\n",
            "Epoch 61/120\n",
            "6500/6500 [==============================] - 0s 48us/step - loss: 0.3505 - acc: 0.8458 - val_loss: 0.4841 - val_acc: 0.8355\n",
            "Epoch 62/120\n",
            "6500/6500 [==============================] - 0s 45us/step - loss: 0.3489 - acc: 0.8471 - val_loss: 0.4849 - val_acc: 0.8205\n",
            "Epoch 63/120\n",
            "6500/6500 [==============================] - 0s 47us/step - loss: 0.3506 - acc: 0.8483 - val_loss: 0.4954 - val_acc: 0.8247\n",
            "Epoch 64/120\n",
            "6500/6500 [==============================] - 0s 48us/step - loss: 0.3564 - acc: 0.8500 - val_loss: 0.5433 - val_acc: 0.8229\n",
            "Epoch 65/120\n",
            "6500/6500 [==============================] - 0s 51us/step - loss: 0.3490 - acc: 0.8502 - val_loss: 0.4956 - val_acc: 0.8271\n",
            "Epoch 66/120\n",
            "6500/6500 [==============================] - 0s 46us/step - loss: 0.3508 - acc: 0.8575 - val_loss: 0.5368 - val_acc: 0.8373\n",
            "Epoch 67/120\n",
            "6500/6500 [==============================] - 0s 48us/step - loss: 0.3473 - acc: 0.8491 - val_loss: 0.5651 - val_acc: 0.8060\n",
            "Epoch 68/120\n",
            "6500/6500 [==============================] - 0s 50us/step - loss: 0.3461 - acc: 0.8454 - val_loss: 0.5876 - val_acc: 0.8030\n",
            "Epoch 69/120\n",
            "6500/6500 [==============================] - 0s 55us/step - loss: 0.3469 - acc: 0.8475 - val_loss: 0.5534 - val_acc: 0.8054\n",
            "Epoch 70/120\n",
            "6500/6500 [==============================] - 0s 49us/step - loss: 0.3440 - acc: 0.8514 - val_loss: 0.5418 - val_acc: 0.8301\n",
            "Epoch 71/120\n",
            "6500/6500 [==============================] - 0s 48us/step - loss: 0.3559 - acc: 0.8480 - val_loss: 0.5136 - val_acc: 0.8361\n",
            "Epoch 72/120\n",
            "6500/6500 [==============================] - 0s 46us/step - loss: 0.3442 - acc: 0.8523 - val_loss: 0.5121 - val_acc: 0.8253\n",
            "Epoch 73/120\n",
            "6500/6500 [==============================] - 0s 47us/step - loss: 0.3446 - acc: 0.8514 - val_loss: 0.5318 - val_acc: 0.8235\n",
            "Epoch 74/120\n",
            "6500/6500 [==============================] - 0s 48us/step - loss: 0.3451 - acc: 0.8505 - val_loss: 0.5858 - val_acc: 0.8253\n",
            "Epoch 75/120\n",
            "6500/6500 [==============================] - 0s 50us/step - loss: 0.3569 - acc: 0.8542 - val_loss: 0.5572 - val_acc: 0.8175\n",
            "Epoch 76/120\n",
            "6500/6500 [==============================] - 0s 47us/step - loss: 0.3474 - acc: 0.8500 - val_loss: 0.5559 - val_acc: 0.8313\n",
            "Epoch 77/120\n",
            "6500/6500 [==============================] - 0s 50us/step - loss: 0.3408 - acc: 0.8525 - val_loss: 0.6958 - val_acc: 0.7958\n",
            "Epoch 78/120\n",
            "6500/6500 [==============================] - 0s 55us/step - loss: 0.3423 - acc: 0.8489 - val_loss: 0.5943 - val_acc: 0.8271\n",
            "Epoch 79/120\n",
            "6500/6500 [==============================] - 0s 47us/step - loss: 0.3416 - acc: 0.8540 - val_loss: 0.7418 - val_acc: 0.8223\n",
            "Epoch 80/120\n",
            "6500/6500 [==============================] - 0s 49us/step - loss: 0.3544 - acc: 0.8500 - val_loss: 0.5386 - val_acc: 0.8313\n",
            "Epoch 81/120\n",
            "6500/6500 [==============================] - 0s 48us/step - loss: 0.3442 - acc: 0.8495 - val_loss: 0.6691 - val_acc: 0.7904\n",
            "Epoch 82/120\n",
            "6500/6500 [==============================] - 0s 48us/step - loss: 0.3513 - acc: 0.8514 - val_loss: 0.5118 - val_acc: 0.8343\n",
            "Epoch 83/120\n",
            "6500/6500 [==============================] - 0s 48us/step - loss: 0.3434 - acc: 0.8503 - val_loss: 0.5837 - val_acc: 0.8024\n",
            "Epoch 84/120\n",
            "6500/6500 [==============================] - 0s 50us/step - loss: 0.3473 - acc: 0.8471 - val_loss: 0.7169 - val_acc: 0.7825\n",
            "Epoch 85/120\n",
            "6500/6500 [==============================] - 0s 47us/step - loss: 0.3466 - acc: 0.8517 - val_loss: 0.6114 - val_acc: 0.7934\n",
            "Epoch 86/120\n",
            "6500/6500 [==============================] - 0s 52us/step - loss: 0.3568 - acc: 0.8500 - val_loss: 0.6290 - val_acc: 0.7934\n",
            "Epoch 87/120\n",
            "6500/6500 [==============================] - 0s 51us/step - loss: 0.3474 - acc: 0.8535 - val_loss: 0.6697 - val_acc: 0.7873\n",
            "Epoch 88/120\n",
            "6500/6500 [==============================] - 0s 54us/step - loss: 0.3483 - acc: 0.8525 - val_loss: 0.5263 - val_acc: 0.8343\n",
            "Epoch 89/120\n",
            "6500/6500 [==============================] - 0s 48us/step - loss: 0.3405 - acc: 0.8548 - val_loss: 0.5473 - val_acc: 0.8253\n",
            "Epoch 90/120\n",
            "6500/6500 [==============================] - 0s 50us/step - loss: 0.3621 - acc: 0.8526 - val_loss: 0.5544 - val_acc: 0.8319\n",
            "Epoch 91/120\n",
            "6500/6500 [==============================] - 0s 48us/step - loss: 0.3551 - acc: 0.8506 - val_loss: 0.6413 - val_acc: 0.8259\n",
            "Epoch 92/120\n",
            "6500/6500 [==============================] - 0s 48us/step - loss: 0.3542 - acc: 0.8575 - val_loss: 0.5927 - val_acc: 0.8114\n",
            "Epoch 93/120\n",
            "6500/6500 [==============================] - 0s 48us/step - loss: 0.3452 - acc: 0.8486 - val_loss: 0.6612 - val_acc: 0.8127\n",
            "Epoch 94/120\n",
            "6500/6500 [==============================] - 0s 47us/step - loss: 0.3415 - acc: 0.8505 - val_loss: 0.5426 - val_acc: 0.8349\n",
            "Epoch 95/120\n",
            "6500/6500 [==============================] - 0s 47us/step - loss: 0.3501 - acc: 0.8523 - val_loss: 0.6093 - val_acc: 0.8223\n",
            "Epoch 96/120\n",
            "6500/6500 [==============================] - 0s 48us/step - loss: 0.3663 - acc: 0.8509 - val_loss: 0.6007 - val_acc: 0.8114\n",
            "Epoch 97/120\n",
            "6500/6500 [==============================] - 0s 47us/step - loss: 0.3387 - acc: 0.8549 - val_loss: 0.5308 - val_acc: 0.8410\n",
            "Epoch 98/120\n",
            "6500/6500 [==============================] - 0s 50us/step - loss: 0.3437 - acc: 0.8520 - val_loss: 0.5819 - val_acc: 0.8187\n",
            "Epoch 99/120\n",
            "6500/6500 [==============================] - 0s 47us/step - loss: 0.3463 - acc: 0.8528 - val_loss: 0.6413 - val_acc: 0.8325\n",
            "Epoch 100/120\n",
            "6500/6500 [==============================] - 0s 47us/step - loss: 0.3457 - acc: 0.8574 - val_loss: 0.5351 - val_acc: 0.8325\n",
            "Epoch 101/120\n",
            "6500/6500 [==============================] - 0s 48us/step - loss: 0.3413 - acc: 0.8589 - val_loss: 0.5651 - val_acc: 0.8235\n",
            "Epoch 102/120\n",
            "6500/6500 [==============================] - 0s 47us/step - loss: 0.3506 - acc: 0.8531 - val_loss: 0.5498 - val_acc: 0.8241\n",
            "Epoch 103/120\n",
            "6500/6500 [==============================] - 0s 51us/step - loss: 0.3382 - acc: 0.8555 - val_loss: 0.6425 - val_acc: 0.8012\n",
            "Epoch 104/120\n",
            "6500/6500 [==============================] - 0s 51us/step - loss: 0.3388 - acc: 0.8498 - val_loss: 0.6150 - val_acc: 0.8199\n",
            "Epoch 105/120\n",
            "6500/6500 [==============================] - 0s 47us/step - loss: 0.3391 - acc: 0.8548 - val_loss: 0.5458 - val_acc: 0.8295\n",
            "Epoch 106/120\n",
            "6500/6500 [==============================] - 0s 48us/step - loss: 0.3354 - acc: 0.8563 - val_loss: 0.7960 - val_acc: 0.7361\n",
            "Epoch 107/120\n",
            "6500/6500 [==============================] - 0s 46us/step - loss: 0.3358 - acc: 0.8549 - val_loss: 0.5664 - val_acc: 0.8416\n",
            "Epoch 108/120\n",
            "6500/6500 [==============================] - 0s 51us/step - loss: 0.3423 - acc: 0.8558 - val_loss: 0.6269 - val_acc: 0.8078\n",
            "Epoch 109/120\n",
            "6500/6500 [==============================] - 0s 48us/step - loss: 0.3486 - acc: 0.8555 - val_loss: 0.7213 - val_acc: 0.8078\n",
            "Epoch 110/120\n",
            "6500/6500 [==============================] - 0s 48us/step - loss: 0.3424 - acc: 0.8551 - val_loss: 0.5797 - val_acc: 0.8319\n",
            "Epoch 111/120\n",
            "6500/6500 [==============================] - 0s 56us/step - loss: 0.3433 - acc: 0.8603 - val_loss: 0.6953 - val_acc: 0.8271\n",
            "Epoch 112/120\n",
            "6500/6500 [==============================] - 0s 53us/step - loss: 0.3458 - acc: 0.8566 - val_loss: 0.6113 - val_acc: 0.8247\n",
            "Epoch 113/120\n",
            "6500/6500 [==============================] - 0s 52us/step - loss: 0.3364 - acc: 0.8552 - val_loss: 0.6895 - val_acc: 0.8373\n",
            "Epoch 114/120\n",
            "6500/6500 [==============================] - 0s 48us/step - loss: 0.3403 - acc: 0.8574 - val_loss: 0.6305 - val_acc: 0.8078\n",
            "Epoch 115/120\n",
            "6500/6500 [==============================] - 0s 49us/step - loss: 0.3463 - acc: 0.8545 - val_loss: 0.5980 - val_acc: 0.8241\n",
            "Epoch 116/120\n",
            "6500/6500 [==============================] - 0s 47us/step - loss: 0.3480 - acc: 0.8535 - val_loss: 0.6608 - val_acc: 0.8259\n",
            "Epoch 117/120\n",
            "6500/6500 [==============================] - 0s 50us/step - loss: 0.3390 - acc: 0.8551 - val_loss: 0.5920 - val_acc: 0.8241\n",
            "Epoch 118/120\n",
            "6500/6500 [==============================] - 0s 49us/step - loss: 0.3609 - acc: 0.8528 - val_loss: 0.5891 - val_acc: 0.8404\n",
            "Epoch 119/120\n",
            "6500/6500 [==============================] - 0s 48us/step - loss: 0.3347 - acc: 0.8563 - val_loss: 0.7245 - val_acc: 0.7657\n",
            "Epoch 120/120\n",
            "6500/6500 [==============================] - 0s 46us/step - loss: 0.3327 - acc: 0.8577 - val_loss: 0.6052 - val_acc: 0.8259\n"
          ],
          "name": "stdout"
        }
      ]
    },
    {
      "cell_type": "code",
      "metadata": {
        "id": "BnUD6bNE09TM",
        "colab_type": "code",
        "colab": {
          "base_uri": "https://localhost:8080/",
          "height": 296
        },
        "outputId": "1ec2e4b3-5e34-4b5a-cce6-78a75c33296f"
      },
      "source": [
        "histo = history.history\n",
        "loss_values = histo['loss']\n",
        "val_loss_values = histo['val_loss']\n",
        "\n",
        "epochs = range(1, len(histo['acc']) + 1)\n",
        "plt.plot(epochs, loss_values, 'bo', label='Training loss')\n",
        "plt.plot(epochs, val_loss_values, 'r', label='Validation loss')\n",
        "plt.xlabel('Epochs')\n",
        "plt.ylabel('Loss')\n",
        "plt.legend()\n",
        "\n",
        "plt.show"
      ],
      "execution_count": 89,
      "outputs": [
        {
          "output_type": "execute_result",
          "data": {
            "text/plain": [
              "<function matplotlib.pyplot.show>"
            ]
          },
          "metadata": {
            "tags": []
          },
          "execution_count": 89
        },
        {
          "output_type": "display_data",
          "data": {
            "image/png": "[encoded data removed]",
            "text/plain": [
              "<Figure size 432x288 with 1 Axes>"
            ]
          },
          "metadata": {
            "tags": [],
            "needs_background": "light"
          }
        }
      ]
    },
    {
      "cell_type": "code",
      "metadata": {
        "id": "9O49qtvo6aDr",
        "colab_type": "code",
        "colab": {
          "base_uri": "https://localhost:8080/",
          "height": 296
        },
        "outputId": "39a37073-59ea-4ccc-9903-f847b9e9494a"
      },
      "source": [
        "plt.clf()\n",
        "acc_values = histo['acc']\n",
        "val_acc_values = histo['val_acc']\n",
        "\n",
        "plt.plot(epochs, acc_values, 'bo', label='Training acc')\n",
        "plt.plot(epochs, val_acc_values, 'r', label='Validation acc')\n",
        "plt.xlabel('Epochs')\n",
        "plt.ylabel('Loss')\n",
        "plt.legend()\n",
        "\n",
        "plt.show"
      ],
      "execution_count": 90,
      "outputs": [
        {
          "output_type": "execute_result",
          "data": {
            "text/plain": [
              "<function matplotlib.pyplot.show>"
            ]
          },
          "metadata": {
            "tags": []
          },
          "execution_count": 90
        },
        {
          "output_type": "display_data",
          "data": {
            "image/png": "[encoded data removed]",
            "text/plain": [
              "<Figure size 432x288 with 1 Axes>"
            ]
          },
          "metadata": {
            "tags": [],
            "needs_background": "light"
          }
        }
      ]
    },
    {
      "cell_type": "code",
      "metadata": {
        "id": "imodmx4p7s3w",
        "colab_type": "code",
        "colab": {}
      },
      "source": [
        ""
      ],
      "execution_count": 0,
      "outputs": []
    }
  ]
}