{
  "nbformat": 4,
  "nbformat_minor": 0,
  "metadata": {
    "colab": {
      "name": "Untitled11.ipynb",
      "provenance": [],
      "authorship_tag": "ABX9TyPTpgqu1Z41kjEPf+ceGsVZ",
      "include_colab_link": true
    },
    "kernelspec": {
      "name": "python3",
      "display_name": "Python 3"
    },
    "accelerator": "GPU"
  },
  "cells": [
    {
      "cell_type": "markdown",
      "metadata": {
        "id": "view-in-github",
        "colab_type": "text"
      },
      "source": [
        "<a href=\"https://colab.research.google.com/github/Schwarzam/Spiral-and-Eliptical-/blob/master/NN_Tabelazoo2.ipynb\" target=\"_parent\"><img src=\"https://colab.research.google.com/assets/colab-badge.svg\" alt=\"Open In Colab\"/></a>"
      ]
    },
    {
      "cell_type": "code",
      "metadata": {
        "id": "n9wnefPjvIUE",
        "colab_type": "code",
        "colab": {}
      },
      "source": [
        "import pandas as pd \n",
        "import numpy as np \n",
        "import matplotlib.pyplot as plt\n",
        "import seaborn as sns\n",
        "import keras as kr"
      ],
      "execution_count": 0,
      "outputs": []
    },
    {
      "cell_type": "code",
      "metadata": {
        "id": "ISDeYlQSvOLZ",
        "colab_type": "code",
        "colab": {}
      },
      "source": [
        "url = 'https://raw.githubusercontent.com/Schwarzam/Spiral-and-Eliptical-/master/group_2_zoo2.csv?token=APDNULOWV2BV2IVN2V464OC6WVPAU'\n",
        "df = pd.read_csv(url)"
      ],
      "execution_count": 0,
      "outputs": []
    },
    {
      "cell_type": "code",
      "metadata": {
        "id": "j5iMv8BvDSov",
        "colab_type": "code",
        "colab": {}
      },
      "source": [
        ""
      ],
      "execution_count": 0,
      "outputs": []
    },
    {
      "cell_type": "code",
      "metadata": {
        "id": "-q92aeyKva1o",
        "colab_type": "code",
        "colab": {}
      },
      "source": [
        "SC = df['simple_class']"
      ],
      "execution_count": 0,
      "outputs": []
    },
    {
      "cell_type": "code",
      "metadata": {
        "id": "njqBEdiQwbcJ",
        "colab_type": "code",
        "colab": {}
      },
      "source": [
        "def regular (cols):\n",
        "  SC = cols[0]\n",
        "\n",
        "  if SC == 'S':\n",
        "    return 'S'\n",
        "  elif SC == 'SB':\n",
        "    return 'S'\n",
        "  elif SC == 'Se':\n",
        "    return 'S'\n",
        "  else: \n",
        "    return 'E'\n",
        "\n"
      ],
      "execution_count": 0,
      "outputs": []
    },
    {
      "cell_type": "code",
      "metadata": {
        "id": "cFHIV3ugxMWv",
        "colab_type": "code",
        "colab": {}
      },
      "source": [
        "Nov = df[['simple_class']].apply(regular, axis=1)"
      ],
      "execution_count": 0,
      "outputs": []
    },
    {
      "cell_type": "code",
      "metadata": {
        "id": "7F7EJFZavey8",
        "colab_type": "code",
        "colab": {}
      },
      "source": [
        "Class = pd.get_dummies(Nov, drop_first=True)"
      ],
      "execution_count": 0,
      "outputs": []
    },
    {
      "cell_type": "code",
      "metadata": {
        "id": "zmBRnyGZ3U10",
        "colab_type": "code",
        "colab": {}
      },
      "source": [
        "df['Class'] = Class\n",
        "df.drop(['simple_class'], axis=1, inplace=True)"
      ],
      "execution_count": 0,
      "outputs": []
    },
    {
      "cell_type": "code",
      "metadata": {
        "id": "s-9VktRj5H3k",
        "colab_type": "code",
        "outputId": "c08a45c5-4666-4db3-96bd-c6fa41b628f4",
        "colab": {
          "base_uri": "https://localhost:8080/",
          "height": 34
        }
      },
      "source": [
        "# To look which columns has nulls\n",
        "print(df.loc[:, df.isnull().any()].columns)"
      ],
      "execution_count": 9,
      "outputs": [
        {
          "output_type": "stream",
          "text": [
            "Index(['dr8objid'], dtype='object')\n"
          ],
          "name": "stdout"
        }
      ]
    },
    {
      "cell_type": "code",
      "metadata": {
        "id": "0cXWEBky75qS",
        "colab_type": "code",
        "colab": {}
      },
      "source": [
        "df.drop(['dr8objid'], axis=1, inplace=True)"
      ],
      "execution_count": 0,
      "outputs": []
    },
    {
      "cell_type": "code",
      "metadata": {
        "id": "XYPFrB5V6h9g",
        "colab_type": "code",
        "colab": {}
      },
      "source": [
        "ret = list (df)[0:24]\n",
        "dem = list (df)[24:-1]\n",
        "dem2 = ['FWHM_n','MUMAX','A','B','FlRadDet','KrRadDet','nDet_auto','nDet_petro','nDet_aper','uJAVA_auto','euJAVA_auto','s2n_uJAVA_auto','uJAVA_petro',\n",
        " 'euJAVA_petro','s2n_uJAVA_petro','uJAVA_aper','euJAVA_aper','s2n_uJAVA_aper','F378_auto','eF378_auto','s2n_F378_auto','F378_petro','eF378_petro','s2n_F378_petro','F378_aper',\n",
        " 'eF378_aper','s2n_F378_aper','F395_auto','eF395_auto','s2n_F395_auto','F395_petro','eF395_petro','s2n_F395_petro','F395_aper','eF395_aper','s2n_F395_aper',\n",
        " 'F410_auto','eF410_auto','s2n_F410_auto','F410_petro','eF410_petro','s2n_F410_petro','F410_aper','eF410_aper','s2n_F410_aper','F430_auto','eF430_auto',\n",
        " 's2n_F430_auto','F430_petro','eF430_petro','s2n_F430_petro','F430_aper','eF430_aper','s2n_F430_aper','g_auto','eg_auto','s2n_g_auto','g_petro',\n",
        " 'eg_petro','s2n_g_petro','g_aper','eg_aper','s2n_g_aper','F515_auto','eF515_auto','s2n_F515_auto','F515_petro','eF515_petro','s2n_F515_petro','F515_aper',\n",
        " 'eF515_aper','s2n_F515_aper','r_auto','er_auto','s2n_r_auto','r_petro','er_petro','s2n_r_petro','r_aper','er_aper','s2n_r_aper','F660_auto',\n",
        " 'eF660_auto','s2n_F660_auto','F660_petro','eF660_petro','s2n_F660_petro','F660_aper','eF660_aper','s2n_F660_aper','i_auto','ei_auto','s2n_i_auto',\n",
        " 'i_petro','ei_petro', 's2n_i_petro', 'i_aper', 'ei_aper', 's2n_i_aper', 'F861_auto', 'eF861_auto', 's2n_F861_auto', 'F861_petro', 'eF861_petro',\n",
        " 's2n_F861_petro', 'F861_aper', 'eF861_aper', 's2n_F861_aper','z_auto', 'ez_auto', 's2n_z_auto', 'z_petro', 'ez_petro', 's2n_z_petro', 'z_aper',\n",
        " 'ez_aper','s2n_z_aper', 'zb', 'zb_Min', 'zb_Max', 'Tb', 'Odds', 'Chi2', 'M_B', 'Stell_Mass']"
      ],
      "execution_count": 0,
      "outputs": []
    },
    {
      "cell_type": "code",
      "metadata": {
        "id": "YSrXLRGw3tGl",
        "colab_type": "code",
        "colab": {}
      },
      "source": [
        "dem2 = ['FWHM_n','MUMAX','A','B','FlRadDet','KrRadDet','nDet_auto','nDet_aper','uJAVA_auto','euJAVA_auto','s2n_uJAVA_auto','uJAVA_aper','euJAVA_aper','s2n_uJAVA_aper','F378_auto','eF378_auto','s2n_F378_auto','s2n_F378_petro','F378_aper',\n",
        " 'eF378_aper','s2n_F378_aper','F395_auto','eF395_auto','s2n_F395_auto','F395_aper','eF395_aper','s2n_F395_aper',\n",
        " 'F410_auto','eF410_auto','s2n_F410_auto','F410_aper','eF410_aper','s2n_F410_aper','F430_auto','eF430_auto',\n",
        " 's2n_F430_auto','F430_aper','eF430_aper','s2n_F430_aper','g_auto','eg_auto','s2n_g_auto','g_aper','eg_aper','s2n_g_aper','F515_auto','eF515_auto','s2n_F515_auto','F515_aper',\n",
        " 'eF515_aper','s2n_F515_aper','r_auto','er_auto','s2n_r_auto','r_petro','r_aper','er_aper','s2n_r_aper','F660_auto','F660_aper','eF660_aper','s2n_F660_aper','i_auto','ei_auto','s2n_i_auto', 'i_aper', 'ei_aper', 's2n_i_aper', 'F861_auto', 'eF861_auto', 's2n_F861_auto',\n",
        " 'F861_aper', 'eF861_aper', 's2n_F861_aper','z_auto', 'ez_auto', 's2n_z_auto', 's2n_z_petro', 'z_aper',\n",
        " 'ez_aper','s2n_z_aper', 'M_B', 'Stell_Mass']"
      ],
      "execution_count": 0,
      "outputs": []
    },
    {
      "cell_type": "code",
      "metadata": {
        "id": "qSYBmyS8xVQ7",
        "colab_type": "code",
        "colab": {}
      },
      "source": [
        "data_train = df[dem2]"
      ],
      "execution_count": 0,
      "outputs": []
    },
    {
      "cell_type": "code",
      "metadata": {
        "id": "UZ1xQg6-xvtb",
        "colab_type": "code",
        "colab": {}
      },
      "source": [
        "X_train = data_train.rename_axis('ID').values[0:6500]\n",
        "X_test = data_train.rename_axis('ID').values[7501:8161]\n",
        "y_train = df['Class'].rename_axis('ID').values[0:6500]\n",
        "y_test = df['Class'].rename_axis('ID').values[7501:8161]\n",
        "x_val = data_train.rename_axis('ID').values[6501:7500]\n",
        "y_val = df['Class'].rename_axis('ID').values[6501:7500]"
      ],
      "execution_count": 0,
      "outputs": []
    },
    {
      "cell_type": "code",
      "metadata": {
        "id": "NgvOKNGBzk9z",
        "colab_type": "code",
        "colab": {}
      },
      "source": [
        "from keras import models\n",
        "from keras import layers\n",
        "from keras import regularizers\n",
        "\n",
        "model = models.Sequential()\n",
        "#model.add(layers.Dense(16,kernel_regularizer = regularizers.l2(0.01), activation='relu'))\n",
        "#model.add(layers.Dense(16,kernel_regularizer = regularizers.l2(0.01), activation='relu'))\n",
        "model.add(layers.Dense(8, activation='relu'))\n",
        "model.add(layers.Dense(8, activation='relu'))\n",
        "model.add(layers.Dense(8, activation='relu'))\n",
        "model.add(layers.Dense(8, activation='relu'))\n",
        "#model.add(layers.Dense(16, activation='elu'))\n",
        "model.add(layers.Dense(1, activation='sigmoid'))"
      ],
      "execution_count": 0,
      "outputs": []
    },
    {
      "cell_type": "code",
      "metadata": {
        "id": "rPONtz5Q0KwN",
        "colab_type": "code",
        "outputId": "db88aec1-4397-445a-b6bd-e224cc900dda",
        "colab": {
          "base_uri": "https://localhost:8080/",
          "height": 374
        }
      },
      "source": [
        "from keras import optimizers\n",
        "model.compile(optimizer=optimizers.RMSprop(lr=0.001),\n",
        "              loss='binary_crossentropy',\n",
        "              metrics=['acc'])\n",
        "history = model.fit(X_train,\n",
        "                    y_train,\n",
        "                    epochs=10,\n",
        "                    batch_size=32,\n",
        "                    validation_data=(x_val, y_val))"
      ],
      "execution_count": 153,
      "outputs": [
        {
          "output_type": "stream",
          "text": [
            "Train on 6500 samples, validate on 999 samples\n",
            "Epoch 1/10\n",
            "6500/6500 [==============================] - 1s 127us/step - loss: 0.5158 - acc: 0.7738 - val_loss: 0.5061 - val_acc: 0.7958\n",
            "Epoch 2/10\n",
            "6500/6500 [==============================] - 1s 104us/step - loss: 0.4659 - acc: 0.7994 - val_loss: 0.4512 - val_acc: 0.8088\n",
            "Epoch 3/10\n",
            "6500/6500 [==============================] - 1s 102us/step - loss: 0.4552 - acc: 0.8011 - val_loss: 0.4479 - val_acc: 0.8128\n",
            "Epoch 4/10\n",
            "6500/6500 [==============================] - 1s 105us/step - loss: 0.4532 - acc: 0.8006 - val_loss: 0.4382 - val_acc: 0.8178\n",
            "Epoch 5/10\n",
            "6500/6500 [==============================] - 1s 106us/step - loss: 0.4400 - acc: 0.8046 - val_loss: 0.4442 - val_acc: 0.8228\n",
            "Epoch 6/10\n",
            "6500/6500 [==============================] - 1s 100us/step - loss: 0.4468 - acc: 0.8051 - val_loss: 0.4744 - val_acc: 0.8128\n",
            "Epoch 7/10\n",
            "6500/6500 [==============================] - 1s 98us/step - loss: 0.4418 - acc: 0.8055 - val_loss: 0.4383 - val_acc: 0.8208\n",
            "Epoch 8/10\n",
            "6500/6500 [==============================] - 1s 100us/step - loss: 0.4351 - acc: 0.8102 - val_loss: 0.4557 - val_acc: 0.8168\n",
            "Epoch 9/10\n",
            "6500/6500 [==============================] - 1s 100us/step - loss: 0.4427 - acc: 0.8109 - val_loss: 0.5233 - val_acc: 0.8068\n",
            "Epoch 10/10\n",
            "6500/6500 [==============================] - 1s 100us/step - loss: 0.4336 - acc: 0.8046 - val_loss: 0.4355 - val_acc: 0.8198\n"
          ],
          "name": "stdout"
        }
      ]
    },
    {
      "cell_type": "code",
      "metadata": {
        "id": "d-xIYYI_nEQu",
        "colab_type": "code",
        "colab": {
          "base_uri": "https://localhost:8080/",
          "height": 51
        },
        "outputId": "ab8c84c7-d903-468e-987d-5c2b529a8ff7"
      },
      "source": [
        "resultado = model.evaluate(X_test, y_test)\n",
        "resultado"
      ],
      "execution_count": 154,
      "outputs": [
        {
          "output_type": "stream",
          "text": [
            "660/660 [==============================] - 0s 55us/step\n"
          ],
          "name": "stdout"
        },
        {
          "output_type": "execute_result",
          "data": {
            "text/plain": [
              "[0.4542721426848209, 0.8030303120613098]"
            ]
          },
          "metadata": {
            "tags": []
          },
          "execution_count": 154
        }
      ]
    },
    {
      "cell_type": "code",
      "metadata": {
        "id": "BnUD6bNE09TM",
        "colab_type": "code",
        "outputId": "0287197b-553d-43a2-849d-a34bb8e42ab0",
        "colab": {
          "base_uri": "https://localhost:8080/",
          "height": 296
        }
      },
      "source": [
        "histo = history.history\n",
        "loss_values = histo['loss']\n",
        "val_loss_values = histo['val_loss']\n",
        "\n",
        "epochs = range(1, len(histo['acc']) + 1)\n",
        "plt.plot(epochs, loss_values, 'bo', label='Training loss')\n",
        "plt.plot(epochs, val_loss_values, 'r', label='Validation loss')\n",
        "plt.xlabel('Epochs')\n",
        "plt.ylabel('Loss')\n",
        "plt.legend()\n",
        "\n",
        "plt.show"
      ],
      "execution_count": 155,
      "outputs": [
        {
          "output_type": "execute_result",
          "data": {
            "text/plain": [
              "<function matplotlib.pyplot.show>"
            ]
          },
          "metadata": {
            "tags": []
          },
          "execution_count": 155
        },
        {
          "output_type": "display_data",
          "data": {
            "image/png": "[encoded data removed]",
            "text/plain": [
              "<Figure size 432x288 with 1 Axes>"
            ]
          },
          "metadata": {
            "tags": [],
            "needs_background": "light"
          }
        }
      ]
    },
    {
      "cell_type": "code",
      "metadata": {
        "id": "9O49qtvo6aDr",
        "colab_type": "code",
        "outputId": "96f5229c-27df-4417-d8b4-6544c47c5b13",
        "colab": {
          "base_uri": "https://localhost:8080/",
          "height": 296
        }
      },
      "source": [
        "plt.clf()\n",
        "acc_values = histo['acc']\n",
        "val_acc_values = histo['val_acc']\n",
        "\n",
        "plt.plot(epochs, acc_values, 'bo', label='Training acc')\n",
        "plt.plot(epochs, val_acc_values, 'r', label='Validation acc')\n",
        "plt.xlabel('Epochs')\n",
        "plt.ylabel('Loss')\n",
        "plt.legend()\n",
        "\n",
        "plt.show"
      ],
      "execution_count": 156,
      "outputs": [
        {
          "output_type": "execute_result",
          "data": {
            "text/plain": [
              "<function matplotlib.pyplot.show>"
            ]
          },
          "metadata": {
            "tags": []
          },
          "execution_count": 156
        },
        {
          "output_type": "display_data",
          "data": {
            "image/png": "[encoded data removed]",
            "text/plain": [
              "<Figure size 432x288 with 1 Axes>"
            ]
          },
          "metadata": {
            "tags": [],
            "needs_background": "light"
          }
        }
      ]
    },
    {
      "cell_type": "code",
      "metadata": {
        "id": "imodmx4p7s3w",
        "colab_type": "code",
        "colab": {}
      },
      "source": [
        ""
      ],
      "execution_count": 0,
      "outputs": []
    }
  ]
}