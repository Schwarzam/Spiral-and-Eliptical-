{
  "nbformat": 4,
  "nbformat_minor": 0,
  "metadata": {
    "colab": {
      "name": "Untitled11.ipynb",
      "provenance": [],
      "authorship_tag": "ABX9TyNmAWFdIEAce7Sy8REwWr+9",
      "include_colab_link": true
    },
    "kernelspec": {
      "name": "python3",
      "display_name": "Python 3"
    },
    "accelerator": "GPU"
  },
  "cells": [
    {
      "cell_type": "markdown",
      "metadata": {
        "id": "view-in-github",
        "colab_type": "text"
      },
      "source": [
        "<a href=\"https://colab.research.google.com/github/Schwarzam/Spiral-and-Eliptical-/blob/master/NN_Tabelazoo2.ipynb\" target=\"_parent\"><img src=\"https://colab.research.google.com/assets/colab-badge.svg\" alt=\"Open In Colab\"/></a>"
      ]
    },
    {
      "cell_type": "code",
      "metadata": {
        "id": "n9wnefPjvIUE",
        "colab_type": "code",
        "colab": {}
      },
      "source": [
        "import pandas as pd \n",
        "import numpy as np \n",
        "import matplotlib.pyplot as plt\n",
        "import seaborn as sns\n",
        "import keras as kr"
      ],
      "execution_count": 0,
      "outputs": []
    },
    {
      "cell_type": "code",
      "metadata": {
        "id": "ISDeYlQSvOLZ",
        "colab_type": "code",
        "colab": {}
      },
      "source": [
        "url = 'https://raw.githubusercontent.com/Schwarzam/Spiral-and-Eliptical-/master/group_2_zoo2.csv?token=APDNULOWV2BV2IVN2V464OC6WVPAU'\n",
        "df = pd.read_csv(url)"
      ],
      "execution_count": 0,
      "outputs": []
    },
    {
      "cell_type": "code",
      "metadata": {
        "id": "j5iMv8BvDSov",
        "colab_type": "code",
        "colab": {}
      },
      "source": [
        ""
      ],
      "execution_count": 0,
      "outputs": []
    },
    {
      "cell_type": "code",
      "metadata": {
        "id": "-q92aeyKva1o",
        "colab_type": "code",
        "colab": {}
      },
      "source": [
        "SC = df['simple_class']"
      ],
      "execution_count": 0,
      "outputs": []
    },
    {
      "cell_type": "code",
      "metadata": {
        "id": "njqBEdiQwbcJ",
        "colab_type": "code",
        "colab": {}
      },
      "source": [
        "def regular (cols):\n",
        "  SC = cols[0]\n",
        "\n",
        "  if SC == 'S':\n",
        "    return 'S'\n",
        "  elif SC == 'SB':\n",
        "    return 'S'\n",
        "  elif SC == 'Se':\n",
        "    return 'S'\n",
        "  else: \n",
        "    return 'E'\n",
        "\n"
      ],
      "execution_count": 0,
      "outputs": []
    },
    {
      "cell_type": "code",
      "metadata": {
        "id": "cFHIV3ugxMWv",
        "colab_type": "code",
        "colab": {}
      },
      "source": [
        "Nov = df[['simple_class']].apply(regular, axis=1)"
      ],
      "execution_count": 0,
      "outputs": []
    },
    {
      "cell_type": "code",
      "metadata": {
        "id": "7F7EJFZavey8",
        "colab_type": "code",
        "colab": {}
      },
      "source": [
        "Class = pd.get_dummies(Nov, drop_first=True)"
      ],
      "execution_count": 0,
      "outputs": []
    },
    {
      "cell_type": "code",
      "metadata": {
        "id": "zmBRnyGZ3U10",
        "colab_type": "code",
        "colab": {}
      },
      "source": [
        "df['Class'] = Class\n",
        "df.drop(['simple_class'], axis=1, inplace=True)"
      ],
      "execution_count": 0,
      "outputs": []
    },
    {
      "cell_type": "code",
      "metadata": {
        "id": "s-9VktRj5H3k",
        "colab_type": "code",
        "outputId": "e0e7e795-0185-4b79-a55e-23e824286623",
        "colab": {
          "base_uri": "https://localhost:8080/",
          "height": 34
        }
      },
      "source": [
        "# To look which columns has nulls\n",
        "print(df.loc[:, df.isnull().any()].columns)"
      ],
      "execution_count": 9,
      "outputs": [
        {
          "output_type": "stream",
          "text": [
            "Index(['dr8objid'], dtype='object')\n"
          ],
          "name": "stdout"
        }
      ]
    },
    {
      "cell_type": "code",
      "metadata": {
        "id": "0cXWEBky75qS",
        "colab_type": "code",
        "colab": {}
      },
      "source": [
        "df.drop(['dr8objid'], axis=1, inplace=True)"
      ],
      "execution_count": 0,
      "outputs": []
    },
    {
      "cell_type": "code",
      "metadata": {
        "id": "XYPFrB5V6h9g",
        "colab_type": "code",
        "colab": {}
      },
      "source": [
        "ret = list (df)[0:24]\n",
        "dem = list (df)[24:-1]"
      ],
      "execution_count": 0,
      "outputs": []
    },
    {
      "cell_type": "code",
      "metadata": {
        "id": "YSrXLRGw3tGl",
        "colab_type": "code",
        "colab": {}
      },
      "source": [
        "dem2 = ['FWHM_n','MUMAX','A','B','FlRadDet','KrRadDet','nDet_auto','nDet_aper','uJAVA_auto','euJAVA_auto','s2n_uJAVA_auto','uJAVA_aper','euJAVA_aper','s2n_uJAVA_aper','F378_auto','eF378_auto','s2n_F378_auto','s2n_F378_petro','F378_aper',\n",
        " 'eF378_aper','s2n_F378_aper','F395_auto','eF395_auto','s2n_F395_auto','F395_aper','eF395_aper','s2n_F395_aper',\n",
        " 'F410_auto','eF410_auto','s2n_F410_auto','F410_aper','eF410_aper','s2n_F410_aper','F430_auto','eF430_auto',\n",
        " 's2n_F430_auto','F430_aper','eF430_aper','s2n_F430_aper','g_auto','eg_auto','s2n_g_auto','g_aper','eg_aper','s2n_g_aper','F515_auto','eF515_auto','s2n_F515_auto','F515_aper',\n",
        " 'eF515_aper','s2n_F515_aper','r_auto','er_auto','s2n_r_auto','r_petro','r_aper','er_aper','s2n_r_aper','F660_auto','F660_aper','eF660_aper','s2n_F660_aper','i_auto','ei_auto','s2n_i_auto', 'i_aper', 'ei_aper', 's2n_i_aper', 'F861_auto', 'eF861_auto', 's2n_F861_auto',\n",
        " 'F861_aper', 'eF861_aper', 's2n_F861_aper','z_auto', 'ez_auto', 's2n_z_auto', 's2n_z_petro', 'z_aper',\n",
        " 'ez_aper','s2n_z_aper', 'M_B', 'Stell_Mass']"
      ],
      "execution_count": 0,
      "outputs": []
    },
    {
      "cell_type": "code",
      "metadata": {
        "id": "qSYBmyS8xVQ7",
        "colab_type": "code",
        "colab": {}
      },
      "source": [
        "data_train = df[dem2]"
      ],
      "execution_count": 0,
      "outputs": []
    },
    {
      "cell_type": "code",
      "metadata": {
        "id": "UZ1xQg6-xvtb",
        "colab_type": "code",
        "colab": {}
      },
      "source": [
        "X_train = data_train.rename_axis('ID').values[0:6500]\n",
        "X_test = data_train.rename_axis('ID').values[7501:8161]\n",
        "y_train = df['Class'].rename_axis('ID').values[0:6500]\n",
        "y_test = df['Class'].rename_axis('ID').values[7501:8161]\n",
        "x_val = data_train.rename_axis('ID').values[6501:7500]\n",
        "y_val = df['Class'].rename_axis('ID').values[6501:7500]"
      ],
      "execution_count": 0,
      "outputs": []
    },
    {
      "cell_type": "code",
      "metadata": {
        "id": "d-8M14-QK_Zf",
        "colab_type": "code",
        "colab": {
          "base_uri": "https://localhost:8080/",
          "height": 34
        },
        "outputId": "39c32f4b-d69a-4ee5-d7ac-b0e7346f4484"
      },
      "source": [
        "y_train"
      ],
      "execution_count": 37,
      "outputs": [
        {
          "output_type": "execute_result",
          "data": {
            "text/plain": [
              "array([1, 1, 1, ..., 0, 0, 0], dtype=uint8)"
            ]
          },
          "metadata": {
            "tags": []
          },
          "execution_count": 37
        }
      ]
    },
    {
      "cell_type": "code",
      "metadata": {
        "id": "NgvOKNGBzk9z",
        "colab_type": "code",
        "colab": {}
      },
      "source": [
        "from keras import models\n",
        "from keras import layers\n",
        "from keras import regularizers\n",
        "\n",
        "model = models.Sequential()\n",
        "#model.add(layers.Dense(16,kernel_regularizer = regularizers.l2(0.01), activation='relu'))\n",
        "#model.add(layers.Dense(16,kernel_regularizer = regularizers.l2(0.01), activation='relu'))\n",
        "model.add(layers.Dense(256, activation='relu'))\n",
        "model.add(layers.Dense(128, activation='relu'))\n",
        "model.add(layers.Dropout(0.4))\n",
        "model.add(layers.Dense(64, activation='relu'))\n",
        "model.add(layers.Dense(32, activation='relu'))\n",
        "model.add(layers.Dropout(0.4))\n",
        "#model.add(layers.Dense(16, activation='elu'))\n",
        "model.add(layers.Dense(1, activation='sigmoid'))"
      ],
      "execution_count": 0,
      "outputs": []
    },
    {
      "cell_type": "code",
      "metadata": {
        "id": "rPONtz5Q0KwN",
        "colab_type": "code",
        "outputId": "818139df-0e30-4963-f7e5-44c75b650a2c",
        "colab": {
          "base_uri": "https://localhost:8080/",
          "height": 1000
        }
      },
      "source": [
        "from keras import optimizers\n",
        "model.compile(optimizer=optimizers.RMSprop(lr=1e-4),\n",
        "              loss='binary_crossentropy',\n",
        "              metrics=['acc'])\n",
        "history = model.fit(X_train,\n",
        "                    y_train,\n",
        "                    epochs=30,\n",
        "                    batch_size=32,\n",
        "                    validation_data=(x_val, y_val))"
      ],
      "execution_count": 26,
      "outputs": [
        {
          "output_type": "stream",
          "text": [
            "Train on 6500 samples, validate on 999 samples\n",
            "Epoch 1/30\n",
            "6500/6500 [==============================] - 1s 150us/step - loss: 0.6310 - acc: 0.7878 - val_loss: 0.4447 - val_acc: 0.8198\n",
            "Epoch 2/30\n",
            "6500/6500 [==============================] - 1s 102us/step - loss: 0.5393 - acc: 0.7923 - val_loss: 0.4406 - val_acc: 0.8148\n",
            "Epoch 3/30\n",
            "6500/6500 [==============================] - 1s 105us/step - loss: 0.5938 - acc: 0.7898 - val_loss: 0.4445 - val_acc: 0.8208\n",
            "Epoch 4/30\n",
            "6500/6500 [==============================] - 1s 108us/step - loss: 0.5823 - acc: 0.7932 - val_loss: 0.4459 - val_acc: 0.8188\n",
            "Epoch 5/30\n",
            "6500/6500 [==============================] - 1s 102us/step - loss: 0.5986 - acc: 0.7982 - val_loss: 0.4544 - val_acc: 0.8078\n",
            "Epoch 6/30\n",
            "6500/6500 [==============================] - 1s 101us/step - loss: 0.5082 - acc: 0.7962 - val_loss: 0.4255 - val_acc: 0.8088\n",
            "Epoch 7/30\n",
            "6500/6500 [==============================] - 1s 109us/step - loss: 0.6634 - acc: 0.7957 - val_loss: 0.4180 - val_acc: 0.8168\n",
            "Epoch 8/30\n",
            "6500/6500 [==============================] - 1s 102us/step - loss: 0.5429 - acc: 0.7938 - val_loss: 0.4387 - val_acc: 0.8168\n",
            "Epoch 9/30\n",
            "6500/6500 [==============================] - 1s 113us/step - loss: 0.5240 - acc: 0.7929 - val_loss: 0.4367 - val_acc: 0.8088\n",
            "Epoch 10/30\n",
            "6500/6500 [==============================] - 1s 102us/step - loss: 0.5385 - acc: 0.7968 - val_loss: 0.4462 - val_acc: 0.8128\n",
            "Epoch 11/30\n",
            "6500/6500 [==============================] - 1s 130us/step - loss: 0.5360 - acc: 0.7978 - val_loss: 0.4499 - val_acc: 0.8238\n",
            "Epoch 12/30\n",
            "6500/6500 [==============================] - 1s 105us/step - loss: 0.5160 - acc: 0.8002 - val_loss: 0.4608 - val_acc: 0.8198\n",
            "Epoch 13/30\n",
            "6500/6500 [==============================] - 1s 104us/step - loss: 0.4977 - acc: 0.8045 - val_loss: 0.4516 - val_acc: 0.8148\n",
            "Epoch 14/30\n",
            "6500/6500 [==============================] - 1s 129us/step - loss: 0.5150 - acc: 0.8045 - val_loss: 0.4235 - val_acc: 0.8208\n",
            "Epoch 15/30\n",
            "6500/6500 [==============================] - 1s 126us/step - loss: 0.5476 - acc: 0.8000 - val_loss: 0.4475 - val_acc: 0.8228\n",
            "Epoch 16/30\n",
            "6500/6500 [==============================] - 1s 101us/step - loss: 0.4807 - acc: 0.8014 - val_loss: 0.4510 - val_acc: 0.8158\n",
            "Epoch 17/30\n",
            "6500/6500 [==============================] - 1s 128us/step - loss: 0.5628 - acc: 0.8003 - val_loss: 0.4383 - val_acc: 0.8268\n",
            "Epoch 18/30\n",
            "6500/6500 [==============================] - 1s 113us/step - loss: 0.5385 - acc: 0.8025 - val_loss: 0.4708 - val_acc: 0.8158\n",
            "Epoch 19/30\n",
            "6500/6500 [==============================] - 1s 119us/step - loss: 0.5030 - acc: 0.8002 - val_loss: 0.4381 - val_acc: 0.8198\n",
            "Epoch 20/30\n",
            "6500/6500 [==============================] - 1s 131us/step - loss: 0.4842 - acc: 0.8074 - val_loss: 0.4151 - val_acc: 0.8158\n",
            "Epoch 21/30\n",
            "6500/6500 [==============================] - 1s 102us/step - loss: 0.5468 - acc: 0.8062 - val_loss: 0.4282 - val_acc: 0.8208\n",
            "Epoch 22/30\n",
            "6500/6500 [==============================] - 1s 120us/step - loss: 0.5245 - acc: 0.8032 - val_loss: 0.4362 - val_acc: 0.8128\n",
            "Epoch 23/30\n",
            "6500/6500 [==============================] - 1s 106us/step - loss: 0.5283 - acc: 0.8042 - val_loss: 0.4440 - val_acc: 0.8138\n",
            "Epoch 24/30\n",
            "6500/6500 [==============================] - 1s 121us/step - loss: 0.4689 - acc: 0.8091 - val_loss: 0.4376 - val_acc: 0.8188\n",
            "Epoch 25/30\n",
            "6500/6500 [==============================] - 1s 109us/step - loss: 0.5219 - acc: 0.8029 - val_loss: 0.4188 - val_acc: 0.8208\n",
            "Epoch 26/30\n",
            "6500/6500 [==============================] - 1s 105us/step - loss: 0.4781 - acc: 0.8137 - val_loss: 0.4433 - val_acc: 0.8168\n",
            "Epoch 27/30\n",
            "6500/6500 [==============================] - 1s 101us/step - loss: 0.5363 - acc: 0.8097 - val_loss: 0.4228 - val_acc: 0.8228\n",
            "Epoch 28/30\n",
            "6500/6500 [==============================] - 1s 101us/step - loss: 0.4584 - acc: 0.8095 - val_loss: 0.4280 - val_acc: 0.8208\n",
            "Epoch 29/30\n",
            "6500/6500 [==============================] - 1s 113us/step - loss: 0.5222 - acc: 0.8092 - val_loss: 0.4324 - val_acc: 0.8118\n",
            "Epoch 30/30\n",
            "6500/6500 [==============================] - 1s 102us/step - loss: 0.4717 - acc: 0.8089 - val_loss: 0.4402 - val_acc: 0.8218\n"
          ],
          "name": "stdout"
        }
      ]
    },
    {
      "cell_type": "code",
      "metadata": {
        "id": "d-xIYYI_nEQu",
        "colab_type": "code",
        "outputId": "ab8c84c7-d903-468e-987d-5c2b529a8ff7",
        "colab": {
          "base_uri": "https://localhost:8080/",
          "height": 51
        }
      },
      "source": [
        "resultado = model.evaluate(X_test, y_test)\n",
        "resultado"
      ],
      "execution_count": 0,
      "outputs": [
        {
          "output_type": "stream",
          "text": [
            "660/660 [==============================] - 0s 55us/step\n"
          ],
          "name": "stdout"
        },
        {
          "output_type": "execute_result",
          "data": {
            "text/plain": [
              "[0.4542721426848209, 0.8030303120613098]"
            ]
          },
          "metadata": {
            "tags": []
          },
          "execution_count": 154
        }
      ]
    },
    {
      "cell_type": "code",
      "metadata": {
        "id": "BnUD6bNE09TM",
        "colab_type": "code",
        "outputId": "95dbd84f-eed4-47ac-da9f-4861ea14fc05",
        "colab": {
          "base_uri": "https://localhost:8080/",
          "height": 296
        }
      },
      "source": [
        "histo = history.history\n",
        "loss_values = histo['loss']\n",
        "val_loss_values = histo['val_loss']\n",
        "\n",
        "epochs = range(1, len(histo['acc']) + 1)\n",
        "plt.plot(epochs, loss_values, 'b', label='Training loss')\n",
        "plt.plot(epochs, val_loss_values, 'r', label='Validation loss')\n",
        "plt.xlabel('Epochs')\n",
        "plt.ylabel('Loss')\n",
        "plt.legend()\n",
        "\n",
        "plt.show"
      ],
      "execution_count": 28,
      "outputs": [
        {
          "output_type": "execute_result",
          "data": {
            "text/plain": [
              "<function matplotlib.pyplot.show>"
            ]
          },
          "metadata": {
            "tags": []
          },
          "execution_count": 28
        },
        {
          "output_type": "display_data",
          "data": {
            "image/png": "[encoded data removed]",
            "text/plain": [
              "<Figure size 432x288 with 1 Axes>"
            ]
          },
          "metadata": {
            "tags": [],
            "needs_background": "light"
          }
        }
      ]
    },
    {
      "cell_type": "code",
      "metadata": {
        "id": "9O49qtvo6aDr",
        "colab_type": "code",
        "outputId": "c5e778f5-bf58-4ade-b749-02ccaf405b95",
        "colab": {
          "base_uri": "https://localhost:8080/",
          "height": 296
        }
      },
      "source": [
        "plt.clf()\n",
        "acc_values = histo['acc']\n",
        "val_acc_values = histo['val_acc']\n",
        "\n",
        "plt.plot(epochs, acc_values, 'b', label='Training acc')\n",
        "plt.plot(epochs, val_acc_values, 'r', label='Validation acc')\n",
        "plt.xlabel('Epochs')\n",
        "plt.ylabel('Loss')\n",
        "plt.legend()\n",
        "\n",
        "plt.show"
      ],
      "execution_count": 30,
      "outputs": [
        {
          "output_type": "execute_result",
          "data": {
            "text/plain": [
              "<function matplotlib.pyplot.show>"
            ]
          },
          "metadata": {
            "tags": []
          },
          "execution_count": 30
        },
        {
          "output_type": "display_data",
          "data": {
            "image/png": "[encoded data removed]",
            "text/plain": [
              "<Figure size 432x288 with 1 Axes>"
            ]
          },
          "metadata": {
            "tags": [],
            "needs_background": "light"
          }
        }
      ]
    },
    {
      "cell_type": "code",
      "metadata": {
        "id": "imodmx4p7s3w",
        "colab_type": "code",
        "colab": {}
      },
      "source": [
        ""
      ],
      "execution_count": 0,
      "outputs": []
    }
  ]
}