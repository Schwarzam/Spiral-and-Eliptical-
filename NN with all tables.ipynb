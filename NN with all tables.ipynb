{
  "nbformat": 4,
  "nbformat_minor": 0,
  "metadata": {
    "colab": {
      "name": "Untitled10.ipynb",
      "provenance": [],
      "authorship_tag": "ABX9TyNooDsvN94A0b6H0ghD8RU4",
      "include_colab_link": true
    },
    "kernelspec": {
      "name": "python3",
      "display_name": "Python 3"
    }
  },
  "cells": [
    {
      "cell_type": "markdown",
      "metadata": {
        "id": "view-in-github",
        "colab_type": "text"
      },
      "source": [
        "<a href=\"https://colab.research.google.com/github/Schwarzam/Spiral-and-Eliptical-/blob/master/NN%20with%20all%20tables.ipynb\" target=\"_parent\"><img src=\"https://colab.research.google.com/assets/colab-badge.svg\" alt=\"Open In Colab\"/></a>"
      ]
    },
    {
      "cell_type": "code",
      "metadata": {
        "id": "fpVl2UONYWDb",
        "colab_type": "code",
        "colab": {}
      },
      "source": [
        "import pandas as pd \n",
        "import numpy as np \n",
        "import matplotlib.pyplot as plt\n",
        "import seaborn as sns "
      ],
      "execution_count": 0,
      "outputs": []
    },
    {
      "cell_type": "code",
      "metadata": {
        "id": "zzXJ0tlRYk58",
        "colab_type": "code",
        "colab": {}
      },
      "source": [
        "url = 'https://raw.githubusercontent.com/Schwarzam/Spiral-and-Eliptical-/master/F515_mfmkt.mfmtk?token=APDNULJW7XWEFE6YY3CPKLC6WVOR4'\n",
        "url2 = 'https://raw.githubusercontent.com/Schwarzam/Spiral-and-Eliptical-/master/group_2_zoo2.csv?token=APDNULOWV2BV2IVN2V464OC6WVPAU'\n",
        "url3 = 'https://raw.githubusercontent.com/Schwarzam/Spiral-and-Eliptical-/master/F660_mfmkt.mfmtk?token=APDNULPJZTF4QSRBJGUU4UK6WVRPI'\n",
        "url4 = 'https://raw.githubusercontent.com/Schwarzam/Spiral-and-Eliptical-/master/F861_mfmkt.mfmtk?token=APDNULK644HSBALOHYTSMZK6WVS54'\n",
        "url5 = 'https://raw.githubusercontent.com/Schwarzam/Spiral-and-Eliptical-/master/G_mfmkt.mfmtk?token=APDNULI4EDH4PFW4ZQOIQPS6WVVX4'\n",
        "url6 = 'https://raw.githubusercontent.com/Schwarzam/Spiral-and-Eliptical-/master/I_mfmkt.mfmtk?token=APDNULMQ3E6QR5DTHT2TUP26WVWYC'\n",
        "url7 = 'https://raw.githubusercontent.com/Schwarzam/Spiral-and-Eliptical-/master/U_mfmkt.mfmtk?token=APDNULIUZW454BKBUV4HX5K6WVXE6'\n",
        "df = pd.read_csv(url)\n",
        "df2 = pd.read_csv(url2)\n",
        "df3 = pd.read_csv(url3)\n",
        "df4 = pd.read_csv(url4)\n",
        "df5 = pd.read_csv(url5)\n",
        "df6 = pd.read_csv(url6)\n",
        "df7 = pd.read_csv(url7)"
      ],
      "execution_count": 0,
      "outputs": []
    },
    {
      "cell_type": "code",
      "metadata": {
        "id": "FAl4WVdW-y2t",
        "colab_type": "code",
        "colab": {}
      },
      "source": [
        "H = ['A1', 'A2', 'H', 'C1', 'C2', '# rootname800']\n",
        "dem2 = ['ID','FWHM_n','MUMAX','A','B','FlRadDet','KrRadDet','nDet_auto','nDet_aper','uJAVA_auto','euJAVA_auto','s2n_uJAVA_auto','uJAVA_aper','euJAVA_aper','s2n_uJAVA_aper','F378_auto','eF378_auto','s2n_F378_auto','s2n_F378_petro','F378_aper',\n",
        " 'eF378_aper','s2n_F378_aper','F395_auto','eF395_auto','s2n_F395_auto','F395_aper','eF395_aper','s2n_F395_aper',\n",
        " 'F410_auto','eF410_auto','s2n_F410_auto','F410_aper','eF410_aper','s2n_F410_aper','F430_auto','eF430_auto',\n",
        " 's2n_F430_auto','F430_aper','eF430_aper','s2n_F430_aper','g_auto','eg_auto','s2n_g_auto','g_aper','eg_aper','s2n_g_aper','F515_auto','eF515_auto','s2n_F515_auto','F515_aper',\n",
        " 'eF515_aper','s2n_F515_aper','r_auto','er_auto','s2n_r_auto','r_petro','r_aper','er_aper','s2n_r_aper','F660_auto','F660_aper','eF660_aper','s2n_F660_aper','i_auto','ei_auto','s2n_i_auto', 'i_aper', 'ei_aper', 's2n_i_aper', 'F861_auto', 'eF861_auto', 's2n_F861_auto',\n",
        " 'F861_aper', 'eF861_aper', 's2n_F861_aper','z_auto', 'ez_auto', 's2n_z_auto', 's2n_z_petro', 'z_aper',\n",
        " 'ez_aper','s2n_z_aper', 'M_B', 'Stell_Mass','simple_class']"
      ],
      "execution_count": 0,
      "outputs": []
    },
    {
      "cell_type": "code",
      "metadata": {
        "id": "A4s8ZLNadrEt",
        "colab_type": "code",
        "colab": {}
      },
      "source": [
        "dff = pd.merge(df2[dem2], df[H], left_on=\"ID\", right_on=\"# rootname800\")\n",
        "dff.drop('# rootname800', axis=1, inplace=True)\n",
        "df.drop('# rootname800', axis=1, inplace=True)"
      ],
      "execution_count": 0,
      "outputs": []
    },
    {
      "cell_type": "code",
      "metadata": {
        "id": "xtzcJKEbeVoZ",
        "colab_type": "code",
        "colab": {}
      },
      "source": [
        "dff2 = pd.merge(dff, df3[H], left_on='ID', right_on='# rootname800')\n",
        "dff2.drop('# rootname800', axis=1, inplace=True)\n",
        "df3.drop('# rootname800', axis=1, inplace=True)"
      ],
      "execution_count": 0,
      "outputs": []
    },
    {
      "cell_type": "code",
      "metadata": {
        "id": "n_MZwBr3ewsj",
        "colab_type": "code",
        "colab": {}
      },
      "source": [
        "dff3 = pd.merge(dff2, df4[H], left_on='ID', right_on='# rootname800')\n",
        "dff3.drop('# rootname800', axis=1, inplace=True)\n",
        "df4.drop('# rootname800', axis=1, inplace=True)"
      ],
      "execution_count": 0,
      "outputs": []
    },
    {
      "cell_type": "code",
      "metadata": {
        "id": "ar5jb1hrgVSZ",
        "colab_type": "code",
        "colab": {}
      },
      "source": [
        "dff4 = pd.merge(dff3, df5[H], left_on='ID', right_on='# rootname800')\n",
        "dff4.drop('# rootname800', axis=1, inplace=True)\n",
        "df5.drop('# rootname800', axis=1, inplace=True)"
      ],
      "execution_count": 0,
      "outputs": []
    },
    {
      "cell_type": "code",
      "metadata": {
        "id": "KBdh8-JhotB3",
        "colab_type": "code",
        "colab": {}
      },
      "source": [
        "dff5 = pd.merge(dff4, df6[H], left_on='ID', right_on='# rootname800')\n",
        "dff5.drop('# rootname800', axis=1, inplace=True)\n",
        "df6.drop('# rootname800', axis=1, inplace=True)"
      ],
      "execution_count": 0,
      "outputs": []
    },
    {
      "cell_type": "code",
      "metadata": {
        "id": "FMtl9Pv2Ntj4",
        "colab_type": "code",
        "colab": {}
      },
      "source": [
        "#Drops = list(dff5)[150:408]\n",
        "#dff5.drop(Drops, axis=1, inplace=True)"
      ],
      "execution_count": 0,
      "outputs": []
    },
    {
      "cell_type": "code",
      "metadata": {
        "id": "8DUXazvXKnnT",
        "colab_type": "code",
        "colab": {}
      },
      "source": [
        "SC = dff5['simple_class']"
      ],
      "execution_count": 0,
      "outputs": []
    },
    {
      "cell_type": "code",
      "metadata": {
        "id": "Z9C_t5gethcF",
        "colab_type": "code",
        "colab": {}
      },
      "source": [
        "def regular (cols):\n",
        "  SC = cols[0]\n",
        "\n",
        "  if SC == 'S':\n",
        "    return 'S'\n",
        "  elif SC == 'SB':\n",
        "    return 'S'\n",
        "  elif SC == 'Se':\n",
        "    return 'S'\n",
        "  else: \n",
        "    return 'E'"
      ],
      "execution_count": 0,
      "outputs": []
    },
    {
      "cell_type": "code",
      "metadata": {
        "id": "WaMQlD1eMTm4",
        "colab_type": "code",
        "colab": {}
      },
      "source": [
        "Nov = dff5[['simple_class']].apply(regular, axis=1)"
      ],
      "execution_count": 0,
      "outputs": []
    },
    {
      "cell_type": "code",
      "metadata": {
        "id": "U16HaFS8Mara",
        "colab_type": "code",
        "colab": {}
      },
      "source": [
        "Class = pd.get_dummies(Nov, drop_first=True)"
      ],
      "execution_count": 0,
      "outputs": []
    },
    {
      "cell_type": "code",
      "metadata": {
        "id": "r3nmvC-xMg5Q",
        "colab_type": "code",
        "colab": {}
      },
      "source": [
        "dff5['Class'] = Class\n",
        "dff5.drop(['simple_class'], axis=1, inplace=True)"
      ],
      "execution_count": 0,
      "outputs": []
    },
    {
      "cell_type": "code",
      "metadata": {
        "id": "rr6QBfwWMp21",
        "colab_type": "code",
        "outputId": "4fec4ecd-5113-4bf8-e079-5a8b1f5b5555",
        "colab": {
          "base_uri": "https://localhost:8080/",
          "height": 34
        }
      },
      "source": [
        "# To look which columns has nulls\n",
        "print(dff5.loc[:, dff5.isnull().any()].columns)"
      ],
      "execution_count": 56,
      "outputs": [
        {
          "output_type": "stream",
          "text": [
            "Index([], dtype='object')\n"
          ],
          "name": "stdout"
        }
      ]
    },
    {
      "cell_type": "code",
      "metadata": {
        "id": "LKUxZAW9Mtsn",
        "colab_type": "code",
        "colab": {}
      },
      "source": [
        "dff5.drop(['S3_x', 'M20_x', 'Unnamed: 58_x', 'M20_y', 'Unnamed: 58_y', 'S3_x',\n",
        "       'M20_x', 'Unnamed: 58_x', 'S3_y', 'M20_y', 'Unnamed: 58_y', 'S3', 'M20',\n",
        "       'Unnamed: 58'], axis=1, inplace=True)"
      ],
      "execution_count": 0,
      "outputs": []
    },
    {
      "cell_type": "code",
      "metadata": {
        "id": "WuXa36LrNR8E",
        "colab_type": "code",
        "colab": {}
      },
      "source": [
        "data_train = dff5.drop(['Class'], axis=1)"
      ],
      "execution_count": 0,
      "outputs": []
    },
    {
      "cell_type": "code",
      "metadata": {
        "id": "ESgH8xTAQ5fH",
        "colab_type": "code",
        "colab": {}
      },
      "source": [
        "#Dro = list(dff5)[0:24]\n",
        "#dff5.drop(Dro, axis=1, inplace=True)\n",
        "dff5.drop('ID', axis=1, inplace=True)"
      ],
      "execution_count": 0,
      "outputs": []
    },
    {
      "cell_type": "code",
      "metadata": {
        "id": "OV6ZU2T-TrnU",
        "colab_type": "code",
        "colab": {}
      },
      "source": [
        "cols_to_remove = []\n",
        "for col in dff5.columns:\n",
        "    try:\n",
        "        _ = dff5[col].astype(float)\n",
        "    except ValueError:\n",
        "        print('Couldn\\'t covert %s to float' % col)\n",
        "        cols_to_remove.append(col)\n",
        "        pass\n",
        "\n",
        "# keep only the columns in df that do not contain string\n",
        "dfinal = dff5[[col for col in dff5.columns if col not in cols_to_remove]]"
      ],
      "execution_count": 0,
      "outputs": []
    },
    {
      "cell_type": "code",
      "metadata": {
        "id": "rTMd8PYRUAV0",
        "colab_type": "code",
        "colab": {}
      },
      "source": [
        "data_train = dfinal.drop(['Class'], axis=1)"
      ],
      "execution_count": 0,
      "outputs": []
    },
    {
      "cell_type": "code",
      "metadata": {
        "id": "rHuBaq93M49Z",
        "colab_type": "code",
        "colab": {}
      },
      "source": [
        "X_train = data_train.rename_axis('ID').values[0:6000]\n",
        "#X_test = data_train.rename_axis('ID').values[5001:6500]\n",
        "y_train = dff5['Class'].rename_axis('ID').values[0:6000]\n",
        "#y_test = dff5['Class'].rename_axis('ID').values[5001:6500]\n",
        "x_val = data_train.rename_axis('ID').values[6001:7504]\n",
        "y_val = dff5['Class'].rename_axis('ID').values[6001:7504]"
      ],
      "execution_count": 0,
      "outputs": []
    },
    {
      "cell_type": "code",
      "metadata": {
        "id": "t6cZBy-VUgd0",
        "colab_type": "code",
        "colab": {}
      },
      "source": [
        ""
      ],
      "execution_count": 0,
      "outputs": []
    },
    {
      "cell_type": "code",
      "metadata": {
        "id": "NlQbahuINbFQ",
        "colab_type": "code",
        "colab": {}
      },
      "source": [
        "from keras import models\n",
        "from keras import layers\n",
        "\n",
        "model = models.Sequential()\n",
        "model.add(layers.Dense(512, activation='relu'))\n",
        "model.add(layers.Dense(512, activation='relu'))\n",
        "model.add(layers.Dense(512, activation='relu'))\n",
        "model.add(layers.Dense(1, activation='sigmoid'))"
      ],
      "execution_count": 0,
      "outputs": []
    },
    {
      "cell_type": "code",
      "metadata": {
        "id": "KPWkorYBQuhe",
        "colab_type": "code",
        "outputId": "f51f4b66-71e6-4682-ddce-febe8c1984df",
        "colab": {
          "base_uri": "https://localhost:8080/",
          "height": 1000
        }
      },
      "source": [
        "from keras import optimizers\n",
        "model.compile(optimizer=optimizers.RMSprop(lr=0.00075),\n",
        "#model.compile(optimizer='rmsprop',\n",
        "              loss='binary_crossentropy',\n",
        "              metrics=['acc'])\n",
        "history = model.fit(X_train,\n",
        "                    y_train,\n",
        "                    epochs=50,\n",
        "                    batch_size=16,\n",
        "                    validation_data=(x_val, y_val))"
      ],
      "execution_count": 68,
      "outputs": [
        {
          "output_type": "stream",
          "text": [
            "Train on 6000 samples, validate on 1503 samples\n",
            "Epoch 1/50\n",
            "6000/6000 [==============================] - 3s 527us/step - loss: 0.4194 - acc: 0.8197 - val_loss: 0.4161 - val_acc: 0.8124\n",
            "Epoch 2/50\n",
            "6000/6000 [==============================] - 3s 508us/step - loss: 0.4248 - acc: 0.8203 - val_loss: 0.4348 - val_acc: 0.8130\n",
            "Epoch 3/50\n",
            "6000/6000 [==============================] - 3s 501us/step - loss: 0.4170 - acc: 0.8178 - val_loss: 0.4863 - val_acc: 0.8190\n",
            "Epoch 4/50\n",
            "6000/6000 [==============================] - 3s 509us/step - loss: 0.4216 - acc: 0.8182 - val_loss: 0.4206 - val_acc: 0.8090\n",
            "Epoch 5/50\n",
            "6000/6000 [==============================] - 3s 516us/step - loss: 0.4196 - acc: 0.8202 - val_loss: 0.4466 - val_acc: 0.8217\n",
            "Epoch 6/50\n",
            "6000/6000 [==============================] - 3s 487us/step - loss: 0.4136 - acc: 0.8223 - val_loss: 0.4247 - val_acc: 0.8117\n",
            "Epoch 7/50\n",
            "6000/6000 [==============================] - 3s 508us/step - loss: 0.4149 - acc: 0.8208 - val_loss: 0.4268 - val_acc: 0.8170\n",
            "Epoch 8/50\n",
            "6000/6000 [==============================] - 3s 491us/step - loss: 0.4148 - acc: 0.8210 - val_loss: 0.4236 - val_acc: 0.8177\n",
            "Epoch 9/50\n",
            "6000/6000 [==============================] - 3s 493us/step - loss: 0.4252 - acc: 0.8215 - val_loss: 0.4503 - val_acc: 0.8150\n",
            "Epoch 10/50\n",
            "6000/6000 [==============================] - 3s 504us/step - loss: 0.4118 - acc: 0.8247 - val_loss: 0.4251 - val_acc: 0.8184\n",
            "Epoch 11/50\n",
            "6000/6000 [==============================] - 3s 514us/step - loss: 0.4211 - acc: 0.8243 - val_loss: 0.4514 - val_acc: 0.8031\n",
            "Epoch 12/50\n",
            "6000/6000 [==============================] - 3s 502us/step - loss: 0.4145 - acc: 0.8200 - val_loss: 0.5200 - val_acc: 0.8210\n",
            "Epoch 13/50\n",
            "6000/6000 [==============================] - 3s 500us/step - loss: 0.4062 - acc: 0.8235 - val_loss: 0.4417 - val_acc: 0.8090\n",
            "Epoch 14/50\n",
            "6000/6000 [==============================] - 3s 509us/step - loss: 0.4217 - acc: 0.8223 - val_loss: 0.4931 - val_acc: 0.8150\n",
            "Epoch 15/50\n",
            "6000/6000 [==============================] - 3s 506us/step - loss: 0.4233 - acc: 0.8248 - val_loss: 0.4854 - val_acc: 0.8204\n",
            "Epoch 16/50\n",
            "6000/6000 [==============================] - 3s 512us/step - loss: 0.4414 - acc: 0.8257 - val_loss: 0.4522 - val_acc: 0.8177\n",
            "Epoch 17/50\n",
            "6000/6000 [==============================] - 3s 505us/step - loss: 0.4242 - acc: 0.8235 - val_loss: 0.4547 - val_acc: 0.8190\n",
            "Epoch 18/50\n",
            "6000/6000 [==============================] - 3s 509us/step - loss: 0.4474 - acc: 0.8248 - val_loss: 0.4582 - val_acc: 0.8124\n",
            "Epoch 19/50\n",
            "6000/6000 [==============================] - 3s 513us/step - loss: 0.4349 - acc: 0.8223 - val_loss: 0.4121 - val_acc: 0.8244\n",
            "Epoch 20/50\n",
            "6000/6000 [==============================] - 3s 509us/step - loss: 0.4166 - acc: 0.8243 - val_loss: 0.4125 - val_acc: 0.8230\n",
            "Epoch 21/50\n",
            "6000/6000 [==============================] - 3s 508us/step - loss: 0.4102 - acc: 0.8247 - val_loss: 0.4467 - val_acc: 0.8237\n",
            "Epoch 22/50\n",
            "6000/6000 [==============================] - 3s 503us/step - loss: 0.4146 - acc: 0.8292 - val_loss: 0.4553 - val_acc: 0.8350\n",
            "Epoch 23/50\n",
            "6000/6000 [==============================] - 3s 507us/step - loss: 0.4129 - acc: 0.8262 - val_loss: 0.5056 - val_acc: 0.8283\n",
            "Epoch 24/50\n",
            "6000/6000 [==============================] - 3s 505us/step - loss: 0.4138 - acc: 0.8292 - val_loss: 0.4469 - val_acc: 0.8184\n",
            "Epoch 25/50\n",
            "6000/6000 [==============================] - 3s 512us/step - loss: 0.4057 - acc: 0.8287 - val_loss: 0.4157 - val_acc: 0.8303\n",
            "Epoch 26/50\n",
            "6000/6000 [==============================] - 4s 613us/step - loss: 0.4032 - acc: 0.8313 - val_loss: 0.4795 - val_acc: 0.8104\n",
            "Epoch 27/50\n",
            "6000/6000 [==============================] - 3s 544us/step - loss: 0.4012 - acc: 0.8297 - val_loss: 0.4121 - val_acc: 0.8064\n",
            "Epoch 28/50\n",
            "6000/6000 [==============================] - 3s 556us/step - loss: 0.4043 - acc: 0.8263 - val_loss: 0.4330 - val_acc: 0.8184\n",
            "Epoch 29/50\n",
            "6000/6000 [==============================] - 3s 544us/step - loss: 0.4060 - acc: 0.8362 - val_loss: 0.4419 - val_acc: 0.8210\n",
            "Epoch 30/50\n",
            "6000/6000 [==============================] - 3s 550us/step - loss: 0.4006 - acc: 0.8328 - val_loss: 0.4489 - val_acc: 0.8224\n",
            "Epoch 31/50\n",
            "6000/6000 [==============================] - 3s 561us/step - loss: 0.4124 - acc: 0.8303 - val_loss: 0.4210 - val_acc: 0.8224\n",
            "Epoch 32/50\n",
            "6000/6000 [==============================] - 3s 557us/step - loss: 0.3956 - acc: 0.8287 - val_loss: 0.4830 - val_acc: 0.8150\n",
            "Epoch 33/50\n",
            "6000/6000 [==============================] - 3s 555us/step - loss: 0.4079 - acc: 0.8320 - val_loss: 0.4294 - val_acc: 0.8031\n",
            "Epoch 34/50\n",
            "6000/6000 [==============================] - 3s 546us/step - loss: 0.4100 - acc: 0.8278 - val_loss: 0.4104 - val_acc: 0.8363\n",
            "Epoch 35/50\n",
            "6000/6000 [==============================] - 3s 550us/step - loss: 0.4183 - acc: 0.8290 - val_loss: 0.4965 - val_acc: 0.8330\n",
            "Epoch 36/50\n",
            "6000/6000 [==============================] - 3s 525us/step - loss: 0.3975 - acc: 0.8328 - val_loss: 0.4281 - val_acc: 0.8104\n",
            "Epoch 37/50\n",
            "6000/6000 [==============================] - 3s 560us/step - loss: 0.3999 - acc: 0.8262 - val_loss: 0.4876 - val_acc: 0.7878\n",
            "Epoch 38/50\n",
            "6000/6000 [==============================] - 3s 522us/step - loss: 0.4170 - acc: 0.8288 - val_loss: 0.4115 - val_acc: 0.8330\n",
            "Epoch 39/50\n",
            "6000/6000 [==============================] - 3s 535us/step - loss: 0.4006 - acc: 0.8270 - val_loss: 0.4016 - val_acc: 0.8197\n",
            "Epoch 40/50\n",
            "6000/6000 [==============================] - 3s 532us/step - loss: 0.3993 - acc: 0.8295 - val_loss: 0.4081 - val_acc: 0.8370\n",
            "Epoch 41/50\n",
            "6000/6000 [==============================] - 3s 534us/step - loss: 0.4055 - acc: 0.8295 - val_loss: 0.4290 - val_acc: 0.8184\n",
            "Epoch 42/50\n",
            "6000/6000 [==============================] - 3s 545us/step - loss: 0.4014 - acc: 0.8362 - val_loss: 0.4094 - val_acc: 0.8370\n",
            "Epoch 43/50\n",
            "6000/6000 [==============================] - 3s 535us/step - loss: 0.3954 - acc: 0.8353 - val_loss: 0.4460 - val_acc: 0.8370\n",
            "Epoch 44/50\n",
            "6000/6000 [==============================] - 3s 536us/step - loss: 0.3987 - acc: 0.8393 - val_loss: 0.4210 - val_acc: 0.8124\n",
            "Epoch 45/50\n",
            "6000/6000 [==============================] - 3s 542us/step - loss: 0.4003 - acc: 0.8320 - val_loss: 0.4225 - val_acc: 0.8357\n",
            "Epoch 46/50\n",
            "6000/6000 [==============================] - 3s 532us/step - loss: 0.3957 - acc: 0.8315 - val_loss: 0.4292 - val_acc: 0.8297\n",
            "Epoch 47/50\n",
            "6000/6000 [==============================] - 3s 522us/step - loss: 0.3965 - acc: 0.8313 - val_loss: 0.4739 - val_acc: 0.8184\n",
            "Epoch 48/50\n",
            "6000/6000 [==============================] - 3s 486us/step - loss: 0.3964 - acc: 0.8343 - val_loss: 0.4348 - val_acc: 0.8377\n",
            "Epoch 49/50\n",
            "6000/6000 [==============================] - 3s 484us/step - loss: 0.3939 - acc: 0.8383 - val_loss: 0.4349 - val_acc: 0.8237\n",
            "Epoch 50/50\n",
            "6000/6000 [==============================] - 3s 482us/step - loss: 0.4188 - acc: 0.8305 - val_loss: 0.4048 - val_acc: 0.8403\n"
          ],
          "name": "stdout"
        }
      ]
    },
    {
      "cell_type": "code",
      "metadata": {
        "id": "mqvi2hIRUX65",
        "colab_type": "code",
        "colab": {}
      },
      "source": [
        ""
      ],
      "execution_count": 0,
      "outputs": []
    }
  ]
}